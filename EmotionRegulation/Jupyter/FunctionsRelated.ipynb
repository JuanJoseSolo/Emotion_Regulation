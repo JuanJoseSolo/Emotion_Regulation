{
 "cells": [
  {
   "cell_type": "code",
   "execution_count": null,
   "metadata": {
    "dotnet_interactive": {
     "language": "csharp"
    }
   },
   "outputs": [],
   "source": [
    "using System; \n",
    "//#r \"nuget: Plotly.NET.Interactive, 2.0.0-preview.1 \" using Plotly.NET;"
   ]
  },
  {
   "cell_type": "code",
   "execution_count": null,
   "metadata": {
    "dotnet_interactive": {
     "language": "csharp"
    }
   },
   "outputs": [],
   "source": [
    "public float IntensityRugulation(float ActiveEmotion, float avg)\n",
    "{\n",
    "    var tanh = (float)(((Math.Abs(ActiveEmotion / 2)) * (Math.Tanh((2 * avg - 100) / 40))) + (Math.Abs(ActiveEmotion / 2)));    \n",
    "    var tanh2 = (float)((Math.Abs((ActiveEmotion / 2)) * (Math.Tanh(-(2 * avg - 100) / 40))) + (Math.Abs(ActiveEmotion / 2)));\n",
    "    var newValue = (float)(tanh-(tanh2-1));\n",
    "    return tanh;\n",
    "}"
   ]
  },
  {
   "cell_type": "code",
   "execution_count": null,
   "metadata": {
    "dotnet_interactive": {
     "language": "csharp"
    }
   },
   "outputs": [
    {
     "name": "stdout",
     "output_type": "stream",
     "text": [
      "Averange: 26\r\n"
     ]
    },
    {
     "data": {
      "text/html": [
       "<div class=\"dni-plaintext\">0.5822088</div>"
      ]
     },
     "metadata": {},
     "output_type": "display_data"
    }
   ],
   "source": [
    "///// C = 20, E = 25, N = 15, O = 12, A = 30; // max=95\n",
    "float C = 100, E =32, N = 15, O = 20, A = 30;\n",
    "var ActiveEmotion = 7f;\n",
    "var avg = (E + O) / 2;\n",
    "Console.WriteLine(\"Averange: \"+avg);\n",
    "var ER = IntensityRugulation(ActiveEmotion,avg);\n",
    "\n",
    "ER"
   ]
  },
  {
   "cell_type": "code",
   "execution_count": null,
   "metadata": {
    "dotnet_interactive": {
     "language": "csharp"
    }
   },
   "outputs": [],
   "source": [
    "public bool ResponseModulation(Name events)\n",
    "{\n",
    "    Console.WriteLine(\"\\n---------------------Response Modulation------------------------\");\n",
    "\n",
    "    AppliedStrategy = false;\n",
    "    \n",
    "    //check personality\n",
    "    var DAttentionDeployment = this.Personality.DStrategyAndPower.Where(\n",
    "        (strategy, power) => strategy.Key == \"Response Modulation\");\n",
    "    var ExistStrategy = DAttentionDeployment.Any();\n",
    "    var StronglyStrategyPower = DAttentionDeployment.Select(p => p.Value.Trim() == \"Strongly\").FirstOrDefault();\n",
    "    var ApplyStrategy = ExistStrategy && StronglyStrategyPower;\n",
    "\n",
    "    //get event name and it construct the event\n",
    "    var eventName = events.GetNTerm(3);\n",
    "    var NewEvent = ReName(events);\n",
    "    EventFatima = NewEvent.EventTypeFatima;\n",
    "    var target = EventFatima.GetNTerm(4).ToString();\n",
    "\n",
    "    Console.WriteLine(\"\\nEvent name: \" + eventName +\n",
    "        \"                          Target: \" + target);\n",
    "\n",
    "    //finds the appraisal value of event\n",
    "    var Event = EventMatchingName(this.NewEA_character, eventName);\n",
    "\n",
    "    if (ApplyStrategy && Event.AppraisalValue<0)\n",
    "    {\n",
    "        Console.WriteLine(\" \\n In progress...  \");\n",
    "        Console.WriteLine(\" Evaluating emotion intensity...  \");\n",
    "\n",
    "        var CheckCharacter = this.NewAm_character.RecallAllEvents();\n",
    "        var ActiveEmotion = this.NewEmotionalState_Character.GetAllEmotions().LastOrDefault();\n",
    "\n",
    "        var avg = ((this.Personality.Extraversion + this.Personality.Openness) / 2);\n",
    "        var tanh = (float)((Math.Abs((ActiveEmotion.Intensity / 2)) * (Math.Tanh(-(2 * avg - 100) / 40))) + (Math.Abs(ActiveEmotion.Intensity / 2)));\n",
    "        //var gauss = -ActiveEmotion.Intensity * Math.Exp(-(Math.Pow((ERmood - 10), 2) / (10 * Math.Pow(Math.PI, 2)))) + ActiveEmotion.Intensity;\n",
    "        var ModifiedValue = tanh;\n",
    "\n",
    "        /*\n",
    "        //crear nueva emoción a partir de la existente\n",
    "        var IDemotion = this.NewEmotionalState_Character.GetAllEmotions().Select(e => e.CauseId).LastOrDefault();                \n",
    "        var CausedEvent = this.NewEmotionalState_Character.GetAllEmotions().Select(e => e.EventName).LastOrDefault();\n",
    "        var emotionType = this.NewEmotionalState_Character.GetEmotion(ActiveEmotion).EmotionType;\n",
    "        var activeEmotion = this.NewEmotionalState_Character.GetEmotion(ActiveEmotion);\n",
    "        */\n",
    "        if (ModifiedValue > this.ObjetiveEmotion)\n",
    "        {\n",
    "            /*\n",
    "            var NewEmotion = new EmotionalAppraisal.DTOs.EmotionDTO\n",
    "            {\n",
    "\n",
    "                Type = emotionType,\n",
    "                Intensity = (float)ModifiedValue,\n",
    "                CauseEventId = IDemotion,\n",
    "                CauseEventName = CausedEvent.ToString(),\n",
    "                Target = EventFatima.GetNTerm(3).ToString()\n",
    "\n",
    "            };\n",
    "\n",
    "\n",
    "            \n",
    "            \n",
    "            this.NewEmotionalState_Character.RemoveEmotion(activeEmotion, this.NewAm_character);\n",
    "            this.NewEmotionalState_Character.AddActiveEmotion(NewEgeomotion, this.NewAm_character);\n",
    "\n",
    "\n",
    "            var test = this.NewEmotionalState_Character.GetAllEmotions();\n",
    "            \n",
    "            var test2 = test.ToDto(this.NewAm_character);\n",
    "            this.NewEmotionalState_Character.AddActiveEmotion(test2, this.NewAm_character);\n",
    "            var test3 = this.NewEmotionalState_Character.GetAllEmotions().LastOrDefault();\n",
    "            */\n",
    "\n",
    "            \n",
    "\n",
    "            \n",
    "            //internal reappraisal\n",
    "            var modifiedValue = (int)(Math.Round(ModifiedValue));\n",
    "            var t = this.NewAm_character.Tick;\n",
    "            \n",
    "            var change = this.NewEmotionalState_Character.AddEmotion(\n",
    "            ActiveEmotion, this.NewAm_character, new EmotionDispositionDTO() { Threshold = modifiedValue }, t);\n",
    "            \n",
    "            var activeEmotion2 = this.NewEmotionalState_Character.GetAllEmotions().LastOrDefault();\n",
    "            var emoValence = this.NewEmotionalState_Character.GetAllEmotions().Select(e => (float)e.Valence).LastOrDefault();\n",
    "            var emoIntencity = this.NewEmotionalState_Character.GetAllEmotions().Select(e => e.Intensity).LastOrDefault();\n",
    "            var config = new EmotionalAppraisalConfiguration();\n",
    "            \n",
    "            var NewMood = ERmood + emoValence * (emoIntencity * config.EmotionInfluenceOnMoodFactor);\n",
    "            var value = NewMood < -10 ? -10 : (NewMood > 10 ? 10 : NewMood);\n",
    "            if (Math.Abs(value) < config.MinimumMoodValueForInfluencingEmotions)\n",
    "                value = 0;\n",
    "\n",
    "            this.NewEmotionalState_Character.Mood = value;\n",
    "            \n",
    "            AppliedStrategy = true;\n",
    "        }\n",
    "        else\n",
    "        {\n",
    "\n",
    "            Console.WriteLine(\"\\n Strategy not applied due to : Emotion limit was achieved ===> \" + (ModifiedValue >= this.ObjetiveEmotion));\n",
    "            Console.WriteLine(\"\\n New possible value = \" + ModifiedValue + \" -User defined limit = \" + this.ObjetiveEmotion);\n",
    "        }\n",
    "    }\n",
    "    else\n",
    "    {\n",
    "        Console.WriteLine(\"\\n Strategy not applied due to :\\n Agent's personality can apply the strategy ===> positive emotion = +\" + Event.AppraisalValue);\n",
    "    }\n",
    "    Console.WriteLine(\"\\n Response Modulation could be applied: \" + AppliedStrategy);\n",
    "    return AppliedStrategy;\n",
    "}"
   ]
  },
  {
   "cell_type": "code",
   "execution_count": null,
   "metadata": {
    "dotnet_interactive": {
     "language": "csharp"
    }
   },
   "outputs": [],
   "source": [
    "\n",
    "                                 \n",
    "//testing emotion disposit\n",
    "var t = this.NewAm_character.Tick;\n",
    "\n",
    "List<int> vs = new()\n",
    "{-12, -11, -10, -9, -8, -7, -6, -5, -4, -3, -2, -1, 0, 1, 2, 3, 4, 5, 6, 7, 8, 9, 10, 11, 12 };\n",
    "foreach (var j in vs)\n",
    "{\n",
    "var testED = this.NewEmotionalState_Character.AddEmotion(\n",
    "ActiveEmotion, NewAm_character, new EmotionDispositionDTO() { Threshold = j }, t);\n",
    "if(testED != null)\n",
    "    Console.WriteLine(\"index : \"+j+\"  level emotion: \" + testED.Intensity);\n",
    "}"
   ]
  },
  {
   "cell_type": "code",
   "execution_count": null,
   "metadata": {
    "dotnet_interactive": {
     "language": "csharp"
    }
   },
   "outputs": [],
   "source": [
    " public bool Test1(Name events)\n",
    "        {\n",
    "            Console.WriteLine(\"\\n---------------------Response Modulation------------------------\");\n",
    "\n",
    "            AppliedStrategy = false;\n",
    "\n",
    "            //check personality\n",
    "            var DAttentionDeployment = this.Personality.DStrategyAndPower.Where(\n",
    "                (strategy, power) => strategy.Key == \"Response Modulation\");\n",
    "            var ExistStrategy = DAttentionDeployment.Any();\n",
    "            var StronglyStrategyPower = DAttentionDeployment.Select(p => p.Value.Trim() == \"Strongly\").FirstOrDefault();\n",
    "            var ApplyStrategy = ExistStrategy && StronglyStrategyPower;\n",
    "\n",
    "            //get event name and it construct the event\n",
    "            var eventName = events.GetNTerm(3);\n",
    "            var NewEvent = ReName(events);\n",
    "            EventFatima = NewEvent.EventTypeFatima;\n",
    "            var target = EventFatima.GetNTerm(4).ToString();\n",
    "\n",
    "            Console.WriteLine(\"\\nEvent name: \" + eventName +\n",
    "                \"                          Target: \" + target);\n",
    "\n",
    "            //finds the appraisal value of event\n",
    "            var Event = EventMatchingName(this.NewEA_character, eventName);\n",
    "\n",
    "            if (ApplyStrategy && Event.AppraisalValue < 0)\n",
    "            {\n",
    "                Console.WriteLine(\" \\n In progress...  \");\n",
    "                Console.WriteLine(\" Evaluating emotion intensity...  \");\n",
    "\n",
    "                //emoción activa por el evento evaluado\n",
    "                var ActiveEmotion = this.NewEmotionalState_Character.GetAllEmotions().LastOrDefault();\n",
    "\n",
    "                //Calculo del nuevo nivel emocional\n",
    "                var avg = ((this.Personality.Extraversion + this.Personality.Openness) / 2);\n",
    "                var tanh = (float)((Math.Abs((ActiveEmotion.Intensity / 2)) * (Math.Tanh((2 * avg - 100) / 40))) + (Math.Abs(ActiveEmotion.Intensity / 2)));\n",
    "                var ModifiedValue = tanh;\n",
    "\n",
    "                if (ModifiedValue < this.ObjetiveEmotion)\n",
    "                {\n",
    "                    var tick = this.NewAm_character.Tick;\n",
    "                    var emotionDispositionAgent = this.NewEA_character.GetEmotionDisposition(ActiveEmotion.EmotionType);\n",
    "\n",
    "                    var NewEmotion = new EmotionalAppraisal.DTOs.EmotionDTO\n",
    "                    {\n",
    "                        Type = ActiveEmotion.EmotionType,\n",
    "                        Intensity = 0.7f,\n",
    "                        CauseEventName = events.GetNTerm(3).ToString(),\n",
    "                        Target = EventFatima.GetNTerm(4).ToString()\n",
    "                    };\n",
    "\n",
    "                    var es = new ConcreteEmotionalState();\n",
    "                    es.AddActiveEmotion(NewEmotion, this.NewAm_character);\n",
    "\n",
    "                    var NewActiveEmotion = es.GetAllEmotions().LastOrDefault();\n",
    "\n",
    "                    var NewActiveIEmotion = NewActiveEmotion as IEmotion;\n",
    "\n",
    "                    //this.NewEmotionalState_Character.Mood = ERmood;\n",
    "                    this.NewEmotionalState_Character.RemoveEmotion(ActiveEmotion, this.NewAm_character);\n",
    "                    var change = this.NewEmotionalState_Character.AddEmotion(\n",
    "                    NewActiveIEmotion, this.NewAm_character, emotionDispositionAgent, tick);\n",
    "\n",
    "                    AppliedStrategy = true;\n",
    "                }\n",
    "                else\n",
    "                {\n",
    "                    Console.WriteLine(\"\\n+ Strategy not applied due to : Emotion limit was achieved ===> \" + (ModifiedValue >= this.ObjetiveEmotion));\n",
    "                    Console.WriteLine(\"\\n New possible value = \" + ModifiedValue + \" -User defined limit = \" + this.ObjetiveEmotion);\n",
    "                }\n",
    "            }\n",
    "            else\n",
    "            {\n",
    "                Console.WriteLine(\"\\n Strategy not applied due to :\\n Agent's personality can apply the strategy ===> positive emotion = \" + Event.AppraisalValue);\n",
    "            }\n",
    "            Console.WriteLine(\"\\n Response Modulation could be applied: \" + AppliedStrategy);\n",
    "            return AppliedStrategy;\n",
    "        }"
   ]
  },
  {
   "cell_type": "code",
   "execution_count": null,
   "metadata": {
    "dotnet_interactive": {
     "language": "csharp"
    }
   },
   "outputs": [],
   "source": []
  }
 ],
 "metadata": {
  "kernelspec": {
   "display_name": ".NET (C#)",
   "language": "C#",
   "name": ".net-csharp"
  },
  "language_info": {
   "file_extension": ".cs",
   "mimetype": "text/x-csharp",
   "name": "C#",
   "pygments_lexer": "csharp",
   "version": "9.0"
  },
  "orig_nbformat": 4
 },
 "nbformat": 4,
 "nbformat_minor": 2
}
